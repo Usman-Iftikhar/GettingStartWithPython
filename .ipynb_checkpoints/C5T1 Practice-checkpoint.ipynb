{
 "cells": [
  {
   "cell_type": "markdown",
   "metadata": {},
   "source": [
    "# Getting started with Python"
   ]
  },
  {
   "cell_type": "markdown",
   "metadata": {},
   "source": [
    "Python installed using Anaconda"
   ]
  },
  {
   "cell_type": "code",
   "execution_count": 11,
   "metadata": {},
   "outputs": [
    {
     "data": {
      "text/plain": [
       "12.0"
      ]
     },
     "execution_count": 11,
     "metadata": {},
     "output_type": "execute_result"
    }
   ],
   "source": [
    "import math as mt\n",
    "mt.sqrt(144)"
   ]
  },
  {
   "cell_type": "code",
   "execution_count": 7,
   "metadata": {},
   "outputs": [
    {
     "data": {
      "text/plain": [
       "3.141592653589793"
      ]
     },
     "execution_count": 7,
     "metadata": {},
     "output_type": "execute_result"
    }
   ],
   "source": [
    "mt.pi"
   ]
  },
  {
   "cell_type": "code",
   "execution_count": 2,
   "metadata": {},
   "outputs": [
    {
     "data": {
      "text/plain": [
       "array([[0.77225204, 0.23631615, 0.40251784, 0.12062979, 0.42918004],\n",
       "       [0.55471341, 0.59289948, 0.40746928, 0.56849942, 0.87190638],\n",
       "       [0.72172302, 0.64422039, 0.28970863, 0.93041597, 0.636509  ],\n",
       "       [0.56407242, 0.44824303, 0.19708038, 0.59052003, 0.60439107],\n",
       "       [0.23792193, 0.91775471, 0.61523794, 0.29632202, 0.67730318]])"
      ]
     },
     "execution_count": 2,
     "metadata": {},
     "output_type": "execute_result"
    }
   ],
   "source": [
    "import numpy as np\n",
    "# Create a 5x5 array of random integers between 0-1\n",
    "dataOne = np.random.rand(5,5)\n",
    "dataOne"
   ]
  },
  {
   "cell_type": "code",
   "execution_count": 3,
   "metadata": {},
   "outputs": [
    {
     "data": {
      "text/plain": [
       "0.533112303133024"
      ]
     },
     "execution_count": 3,
     "metadata": {},
     "output_type": "execute_result"
    }
   ],
   "source": [
    "np.mean(dataOne)"
   ]
  },
  {
   "cell_type": "code",
   "execution_count": 4,
   "metadata": {},
   "outputs": [
    {
     "data": {
      "text/plain": [
       "0.12062979172500721"
      ]
     },
     "execution_count": 4,
     "metadata": {},
     "output_type": "execute_result"
    }
   ],
   "source": [
    "np.min(dataOne)"
   ]
  },
  {
   "cell_type": "code",
   "execution_count": 5,
   "metadata": {},
   "outputs": [
    {
     "data": {
      "text/plain": [
       "0.9304159740640985"
      ]
     },
     "execution_count": 5,
     "metadata": {},
     "output_type": "execute_result"
    }
   ],
   "source": [
    "np.max(dataOne)"
   ]
  },
  {
   "cell_type": "code",
   "execution_count": 21,
   "metadata": {},
   "outputs": [
    {
     "data": {
      "text/plain": [
       "0.31381620185837084"
      ]
     },
     "execution_count": 21,
     "metadata": {},
     "output_type": "execute_result"
    }
   ],
   "source": [
    "np.std(dataOne)"
   ]
  },
  {
   "cell_type": "markdown",
   "metadata": {},
   "source": [
    "# Functions"
   ]
  },
  {
   "cell_type": "code",
   "execution_count": 25,
   "metadata": {},
   "outputs": [
    {
     "data": {
      "text/plain": [
       "int"
      ]
     },
     "execution_count": 25,
     "metadata": {},
     "output_type": "execute_result"
    }
   ],
   "source": [
    "age = 25\n",
    "type(age)"
   ]
  },
  {
   "cell_type": "code",
   "execution_count": 26,
   "metadata": {},
   "outputs": [
    {
     "data": {
      "text/plain": [
       "str"
      ]
     },
     "execution_count": 26,
     "metadata": {},
     "output_type": "execute_result"
    }
   ],
   "source": [
    "name = 'Jack'\n",
    "type(name)"
   ]
  },
  {
   "cell_type": "code",
   "execution_count": 27,
   "metadata": {},
   "outputs": [
    {
     "data": {
      "text/plain": [
       "float"
      ]
     },
     "execution_count": 27,
     "metadata": {},
     "output_type": "execute_result"
    }
   ],
   "source": [
    "age_float = 25.0\n",
    "type(age_float)"
   ]
  },
  {
   "cell_type": "code",
   "execution_count": 28,
   "metadata": {},
   "outputs": [
    {
     "name": "stdout",
     "output_type": "stream",
     "text": [
      "50.0\n"
     ]
    }
   ],
   "source": [
    "varOne = 25\n",
    "varTwo = 25.0\n",
    "varThree = varOne + varTwo\n",
    "print(varThree)"
   ]
  },
  {
   "cell_type": "code",
   "execution_count": 29,
   "metadata": {},
   "outputs": [
    {
     "ename": "TypeError",
     "evalue": "unsupported operand type(s) for +: 'int' and 'str'",
     "output_type": "error",
     "traceback": [
      "\u001b[1;31m---------------------------------------------------------------------------\u001b[0m",
      "\u001b[1;31mTypeError\u001b[0m                                 Traceback (most recent call last)",
      "\u001b[1;32m<ipython-input-29-8f176fe74921>\u001b[0m in \u001b[0;36m<module>\u001b[1;34m\u001b[0m\n\u001b[0;32m      1\u001b[0m \u001b[0mvarOne\u001b[0m \u001b[1;33m=\u001b[0m \u001b[1;36m25\u001b[0m\u001b[1;33m\u001b[0m\u001b[1;33m\u001b[0m\u001b[0m\n\u001b[0;32m      2\u001b[0m \u001b[0mvarTwo\u001b[0m \u001b[1;33m=\u001b[0m \u001b[1;34m'Hello'\u001b[0m\u001b[1;33m\u001b[0m\u001b[1;33m\u001b[0m\u001b[0m\n\u001b[1;32m----> 3\u001b[1;33m \u001b[0mvarThree\u001b[0m \u001b[1;33m=\u001b[0m \u001b[0mvarOne\u001b[0m \u001b[1;33m+\u001b[0m \u001b[0mvarTwo\u001b[0m\u001b[1;33m\u001b[0m\u001b[1;33m\u001b[0m\u001b[0m\n\u001b[0m\u001b[0;32m      4\u001b[0m \u001b[0mprint\u001b[0m\u001b[1;33m(\u001b[0m\u001b[0mvarThree\u001b[0m\u001b[1;33m)\u001b[0m\u001b[1;33m\u001b[0m\u001b[1;33m\u001b[0m\u001b[0m\n",
      "\u001b[1;31mTypeError\u001b[0m: unsupported operand type(s) for +: 'int' and 'str'"
     ]
    }
   ],
   "source": [
    "varOne = 25\n",
    "varTwo = 'Hello'\n",
    "varThree = varOne + varTwo\n",
    "print(varThree)"
   ]
  },
  {
   "cell_type": "markdown",
   "metadata": {},
   "source": [
    "https://teamtreehouse.com/community/typeerror-unsupported-operand-types-for-int-and-str-5-a"
   ]
  },
  {
   "cell_type": "markdown",
   "metadata": {},
   "source": [
    "## List and Dictionaries"
   ]
  },
  {
   "cell_type": "code",
   "execution_count": 9,
   "metadata": {},
   "outputs": [
    {
     "name": "stdout",
     "output_type": "stream",
     "text": [
      "4098\n",
      "4139\n"
     ]
    }
   ],
   "source": [
    "# Dictionary with keys and values\n",
    "tel = {'jack': 4098, 'sape': 4139}\n",
    "\n",
    "# Obtain value for kay 'jack'\n",
    "print(tel['jack'])\n",
    "\n",
    "# Obtain value for kay 'sape'\n",
    "print(tel['sape'])"
   ]
  },
  {
   "cell_type": "code",
   "execution_count": 12,
   "metadata": {},
   "outputs": [],
   "source": [
    "int_dict = {'int1': 4, 'int2': 7, 'int3': 455.34, 'int4': 144, 'in5': 6}\n",
    "factorial_result = mt.factorial(int_dict['int2'])\n",
    "floor_result = mt.floor(int_dict['int3'])\n",
    "sqrt_result = mt.sqrt(int_dict['int4'])"
   ]
  },
  {
   "cell_type": "code",
   "execution_count": 38,
   "metadata": {},
   "outputs": [
    {
     "name": "stdout",
     "output_type": "stream",
     "text": [
      "5040\n"
     ]
    }
   ],
   "source": [
    "print(factorial_result)"
   ]
  },
  {
   "cell_type": "code",
   "execution_count": 39,
   "metadata": {},
   "outputs": [
    {
     "name": "stdout",
     "output_type": "stream",
     "text": [
      "455\n"
     ]
    }
   ],
   "source": [
    "print(floor_result)"
   ]
  },
  {
   "cell_type": "code",
   "execution_count": 40,
   "metadata": {
    "scrolled": true
   },
   "outputs": [
    {
     "name": "stdout",
     "output_type": "stream",
     "text": [
      "12.0\n"
     ]
    }
   ],
   "source": [
    "print(sqrt_result)"
   ]
  },
  {
   "cell_type": "markdown",
   "metadata": {},
   "source": [
    "# Python for Data Science for Dummies\n",
    "## Chapter 4: Reviewing Basic Pythong\n",
    "### Exercises"
   ]
  },
  {
   "cell_type": "markdown",
   "metadata": {},
   "source": [
    "### Creating and Using Functions"
   ]
  },
  {
   "cell_type": "code",
   "execution_count": 3,
   "metadata": {},
   "outputs": [],
   "source": [
    "def SayHello():\n",
    "    print('Hello There!')"
   ]
  },
  {
   "cell_type": "code",
   "execution_count": 4,
   "metadata": {},
   "outputs": [
    {
     "name": "stdout",
     "output_type": "stream",
     "text": [
      "Hello There!\n"
     ]
    }
   ],
   "source": [
    "SayHello()"
   ]
  },
  {
   "cell_type": "markdown",
   "metadata": {},
   "source": [
    "#### Calling functions in a variety of ways"
   ]
  },
  {
   "cell_type": "code",
   "execution_count": 6,
   "metadata": {},
   "outputs": [],
   "source": [
    "def DoSum(Value1, Value2):\n",
    "    return Value1 + Value2"
   ]
  },
  {
   "cell_type": "code",
   "execution_count": 7,
   "metadata": {
    "scrolled": true
   },
   "outputs": [
    {
     "ename": "TypeError",
     "evalue": "DoSum() missing 2 required positional arguments: 'Value1' and 'Value2'",
     "output_type": "error",
     "traceback": [
      "\u001b[1;31m---------------------------------------------------------------------------\u001b[0m",
      "\u001b[1;31mTypeError\u001b[0m                                 Traceback (most recent call last)",
      "\u001b[1;32m<ipython-input-7-ddda916e57d2>\u001b[0m in \u001b[0;36m<module>\u001b[1;34m\u001b[0m\n\u001b[1;32m----> 1\u001b[1;33m \u001b[0mDoSum\u001b[0m\u001b[1;33m(\u001b[0m\u001b[1;33m)\u001b[0m\u001b[1;33m\u001b[0m\u001b[1;33m\u001b[0m\u001b[0m\n\u001b[0m",
      "\u001b[1;31mTypeError\u001b[0m: DoSum() missing 2 required positional arguments: 'Value1' and 'Value2'"
     ]
    }
   ],
   "source": [
    "DoSum()"
   ]
  },
  {
   "cell_type": "code",
   "execution_count": 8,
   "metadata": {},
   "outputs": [
    {
     "data": {
      "text/plain": [
       "3"
      ]
     },
     "execution_count": 8,
     "metadata": {},
     "output_type": "execute_result"
    }
   ],
   "source": [
    "DoSum(1,2)"
   ]
  },
  {
   "cell_type": "markdown",
   "metadata": {},
   "source": [
    "#### Sending arguments by keyword"
   ]
  },
  {
   "cell_type": "code",
   "execution_count": 19,
   "metadata": {},
   "outputs": [],
   "source": [
    "def DisplaySum(Value1, Value2):\n",
    "    print(str(Value1) + ' + ' + str(Value2) + ' = ' + str((Value1 + Value2)))\n",
    "# Values are first added and then converted to string to concatenate '+' and '=' characters."
   ]
  },
  {
   "cell_type": "code",
   "execution_count": 20,
   "metadata": {},
   "outputs": [
    {
     "name": "stdout",
     "output_type": "stream",
     "text": [
      "2 + 3 = 5\n"
     ]
    }
   ],
   "source": [
    "DisplaySum(2,3)\n",
    "# Arguments are assigned that correspond to the position provided in the function."
   ]
  },
  {
   "cell_type": "code",
   "execution_count": 21,
   "metadata": {},
   "outputs": [
    {
     "name": "stdout",
     "output_type": "stream",
     "text": [
      "2 + 3 = 5\n"
     ]
    }
   ],
   "source": [
    "DisplaySum(Value2 = 3, Value1 = 2)\n",
    "# Arguments are assigned a value, regarless of the order provided."
   ]
  },
  {
   "cell_type": "markdown",
   "metadata": {},
   "source": [
    "#### Givign function argument a default value"
   ]
  },
  {
   "cell_type": "code",
   "execution_count": 22,
   "metadata": {},
   "outputs": [],
   "source": [
    "# Default value of 'No Value Supplied' is assigned.\n",
    "# This is the value that will display if an argument is not provided when the function is called.\n",
    "def SayHello (Greeting = 'No Value Supplied'):\n",
    "    print(Greeting)"
   ]
  },
  {
   "cell_type": "code",
   "execution_count": 23,
   "metadata": {},
   "outputs": [
    {
     "name": "stdout",
     "output_type": "stream",
     "text": [
      "No Value Supplied\n"
     ]
    }
   ],
   "source": [
    "# No argument provided when the function is called.\n",
    "# This will display the default value.\n",
    "SayHello()"
   ]
  },
  {
   "cell_type": "code",
   "execution_count": 24,
   "metadata": {},
   "outputs": [
    {
     "name": "stdout",
     "output_type": "stream",
     "text": [
      "Hello!\n"
     ]
    }
   ],
   "source": [
    "SayHello('Hello!')"
   ]
  },
  {
   "cell_type": "markdown",
   "metadata": {},
   "source": [
    "#### Creating functions with a variable number of arguments"
   ]
  },
  {
   "cell_type": "markdown",
   "metadata": {},
   "source": [
    "Create an argument that has an asterisk in front of it, *VarArgs."
   ]
  },
  {
   "cell_type": "code",
   "execution_count": 14,
   "metadata": {},
   "outputs": [],
   "source": [
    "def DisplayMulti(ArgCount = 0, *VarArgs):\n",
    "    print('You passed ' + str(ArgCount) + ' arguments.', VarArgs)"
   ]
  },
  {
   "cell_type": "code",
   "execution_count": 15,
   "metadata": {},
   "outputs": [
    {
     "name": "stdout",
     "output_type": "stream",
     "text": [
      "You passed 0 arguments. ()\n"
     ]
    }
   ],
   "source": [
    "DisplayMulti()"
   ]
  },
  {
   "cell_type": "code",
   "execution_count": 18,
   "metadata": {},
   "outputs": [
    {
     "name": "stdout",
     "output_type": "stream",
     "text": [
      "You passed 3 arguments. ('Hello', 1, True)\n"
     ]
    }
   ],
   "source": [
    "DisplayMulti(3, 'Hello', 1, True)"
   ]
  },
  {
   "cell_type": "markdown",
   "metadata": {},
   "source": [
    "### Using Conditional and Loop Statements\n",
    "\n",
    "#### Making decisions using the if statement"
   ]
  },
  {
   "cell_type": "code",
   "execution_count": 52,
   "metadata": {},
   "outputs": [],
   "source": [
    "def TestValue(Value):\n",
    "    if Value == 5:\n",
    "        print('Value equals 5!')\n",
    "    elif Value == 6:\n",
    "        print('Value equals 6!')\n",
    "    else:\n",
    "        print('Value is something else.')\n",
    "        print('It equals ' + str(Value))"
   ]
  },
  {
   "cell_type": "code",
   "execution_count": 53,
   "metadata": {},
   "outputs": [
    {
     "name": "stdout",
     "output_type": "stream",
     "text": [
      "Value is something else.\n",
      "It equals 1\n"
     ]
    }
   ],
   "source": [
    "TestValue(1)"
   ]
  },
  {
   "cell_type": "code",
   "execution_count": 54,
   "metadata": {},
   "outputs": [
    {
     "name": "stdout",
     "output_type": "stream",
     "text": [
      "Value equals 5!\n"
     ]
    }
   ],
   "source": [
    "TestValue(5)"
   ]
  },
  {
   "cell_type": "code",
   "execution_count": 55,
   "metadata": {},
   "outputs": [
    {
     "name": "stdout",
     "output_type": "stream",
     "text": [
      "Value equals 6!\n"
     ]
    }
   ],
   "source": [
    "TestValue(6)"
   ]
  },
  {
   "cell_type": "markdown",
   "metadata": {},
   "source": [
    "#### Choosing between multiple options using nested decisions"
   ]
  },
  {
   "cell_type": "code",
   "execution_count": 22,
   "metadata": {},
   "outputs": [],
   "source": [
    "def SecretNumber():\n",
    "    One = int(input('Type a number between 1 and 10: '))\n",
    "    Two = int(input('Type a number between 1 and 10: '))\n",
    "    \n",
    "    if (One >= 1) and (One <= 10):\n",
    "        if (Two >= 1) and (Two <= 10):\n",
    "            print('Your secret number is: ' + str(One*Two))\n",
    "        else:\n",
    "            print('Incorrect second value.')\n",
    "    else:\n",
    "        print('Incorrect first value.')"
   ]
  },
  {
   "cell_type": "markdown",
   "metadata": {},
   "source": [
    "SecretNumber()"
   ]
  },
  {
   "cell_type": "code",
   "execution_count": 23,
   "metadata": {},
   "outputs": [
    {
     "name": "stdout",
     "output_type": "stream",
     "text": [
      "Type a number between 1 and 10: 20\n",
      "Type a number between 1 and 10: 10\n",
      "Incorrect first value.\n"
     ]
    }
   ],
   "source": [
    "SecretNumber()"
   ]
  },
  {
   "cell_type": "code",
   "execution_count": 62,
   "metadata": {},
   "outputs": [
    {
     "name": "stdout",
     "output_type": "stream",
     "text": [
      "Type a number between 1 and 10: 10\n",
      "Type a number between 1 and 10: 10\n",
      "Your secret number is: 100\n"
     ]
    }
   ],
   "source": [
    "SecretNumber()"
   ]
  },
  {
   "cell_type": "markdown",
   "metadata": {},
   "source": [
    "#### Performing repetitive tasks using for loop"
   ]
  },
  {
   "cell_type": "markdown",
   "metadata": {},
   "source": [
    "Use a for loop to perform a task a specific number of times.  The for loop has a definite beginning and a definite end.  The number of times that loop executes depends on the number of elemnts in the variable you provide."
   ]
  },
  {
   "cell_type": "code",
   "execution_count": 73,
   "metadata": {},
   "outputs": [],
   "source": [
    "def DisplayMulti(*VarAgrs):\n",
    "    for Arg in VarAgrs:\n",
    "        if Arg.upper() == 'CONT':\n",
    "            continue\n",
    "            print('Continue Argument: ' + Arg)\n",
    "        elif Arg.upper() == 'BREAK':\n",
    "            break\n",
    "            print('Break Argument: ' + Arg)\n",
    "        print ('Good Argument: ' + Arg)"
   ]
  },
  {
   "cell_type": "markdown",
   "metadata": {},
   "source": [
    "continue: Forces the loop to continue from the current point of execution with the next entry in VarArgs.\n",
    "\n",
    "break: Stops the loop from executing."
   ]
  },
  {
   "cell_type": "code",
   "execution_count": 74,
   "metadata": {},
   "outputs": [
    {
     "name": "stdout",
     "output_type": "stream",
     "text": [
      "Good Argument: Hello\n",
      "Good Argument: Goodbye\n",
      "Good Argument: First\n",
      "Good Argument: Last\n"
     ]
    }
   ],
   "source": [
    "DisplayMulti('Hello', 'Goodbye', 'First', 'Last')"
   ]
  },
  {
   "cell_type": "code",
   "execution_count": 75,
   "metadata": {},
   "outputs": [
    {
     "name": "stdout",
     "output_type": "stream",
     "text": [
      "Good Argument: Hello\n",
      "Good Argument: Goodbye\n"
     ]
    }
   ],
   "source": [
    "DisplayMulti('Hello', 'Cont', 'Goodbye', 'Break', 'Last')"
   ]
  },
  {
   "cell_type": "markdown",
   "metadata": {},
   "source": [
    "Notice that the words Cont and Break don’t appear in the output because\n",
    "they’re keywords. In addition, the word Last doesn’t appear in the output because the for loop ends before this word is processed."
   ]
  },
  {
   "cell_type": "markdown",
   "metadata": {},
   "source": [
    "#### Using the while statement\n",
    "\n",
    "The while loop statement continues to perform tasks until such time that a condition is no longer true"
   ]
  },
  {
   "cell_type": "code",
   "execution_count": 76,
   "metadata": {},
   "outputs": [],
   "source": [
    "def SecretNumber():\n",
    "    GotIt = False\n",
    "    while GotIt == False:\n",
    "        One = int(input('Type a number between 1 and 10: '))\n",
    "        Two = int(input('Type a number between 1 and 10: '))\n",
    "        \n",
    "        if (One >= 1) and (One <= 10):\n",
    "            if(Two >= 1) and (Two <= 10):\n",
    "                print('Secret number is: ' + str(One*Two))\n",
    "                GotIt = True\n",
    "                continue\n",
    "            else:\n",
    "                print('Incorrect second value.')\n",
    "        else:\n",
    "            print('Incorrect first value.')\n",
    "        print('Try again.')"
   ]
  },
  {
   "cell_type": "code",
   "execution_count": 77,
   "metadata": {},
   "outputs": [
    {
     "name": "stdout",
     "output_type": "stream",
     "text": [
      "Type a number between 1 and 10: 20\n",
      "Type a number between 1 and 10: 10\n",
      "Incorrect first value.\n",
      "Try again.\n",
      "Type a number between 1 and 10: 10\n",
      "Type a number between 1 and 10: 20\n",
      "Incorrect second value.\n",
      "Try again.\n",
      "Type a number between 1 and 10: 10\n",
      "Type a number between 1 and 10: 10\n",
      "Secret number is: 100\n"
     ]
    }
   ],
   "source": [
    "SecretNumber()"
   ]
  },
  {
   "cell_type": "markdown",
   "metadata": {},
   "source": [
    "### Storing Data Using Sets, Lists, and Tuples\n",
    "\n",
    "#### Performing operations on sets"
   ]
  },
  {
   "cell_type": "code",
   "execution_count": 26,
   "metadata": {},
   "outputs": [
    {
     "name": "stdout",
     "output_type": "stream",
     "text": [
      "Elements that are unique to both sets are:  {'Black', 'Blue', 'Yellow', 'Red', 'Orange', 'Green'}\n",
      "Elements that are common to both sets are:  {'Black', 'Green'}\n",
      "Elements in SetA that are different from SetB are  {'Red', 'Blue'}\n"
     ]
    }
   ],
   "source": [
    "SetA = {'Red', 'Blue', 'Green', 'Black'}\n",
    "SetB = {'Black', 'Green', 'Yellow', 'Orange'}\n",
    "\n",
    "# Union shows all of the unique elements across both sets.\n",
    "SetX = SetA.union(SetB)\n",
    "print('Elements that are unique to both sets are: ', SetX)\n",
    "\n",
    "# Interset provides elements common to both sets.\n",
    "SetY = SetA.intersection(SetB)\n",
    "print('Elements that are common to both sets are: ', SetY)\n",
    "\n",
    "# Which elements in set A are different from set B\n",
    "SetZ = SetA.difference(SetB)\n",
    "print('Elements in SetA that are different from SetB are ', SetZ)"
   ]
  },
  {
   "cell_type": "code",
   "execution_count": 87,
   "metadata": {},
   "outputs": [
    {
     "name": "stdout",
     "output_type": "stream",
     "text": [
      "{'Yellow', 'Black', 'Green', 'Orange', 'Blue', 'Red'}\n",
      "{'Black', 'Green'}\n",
      "{'Blue', 'Red'}\n"
     ]
    }
   ],
   "source": [
    "# \\n enters a new line\n",
    "print('{0}\\n{1}\\n{2}'.format(SetX, SetY, SetZ))"
   ]
  },
  {
   "cell_type": "markdown",
   "metadata": {},
   "source": [
    "The format() function tells python which objects to place within each of the placeholders in the string.  A placeholder is a set of curly brackets({}) with an optional number in it. The escape character, \\n, provides a newline character beetween entries."
   ]
  },
  {
   "cell_type": "code",
   "execution_count": 88,
   "metadata": {},
   "outputs": [
    {
     "data": {
      "text/plain": [
       "True"
      ]
     },
     "execution_count": 88,
     "metadata": {},
     "output_type": "execute_result"
    }
   ],
   "source": [
    "SetA.issuperset(SetY)"
   ]
  },
  {
   "cell_type": "code",
   "execution_count": 89,
   "metadata": {},
   "outputs": [
    {
     "data": {
      "text/plain": [
       "True"
      ]
     },
     "execution_count": 89,
     "metadata": {},
     "output_type": "execute_result"
    }
   ],
   "source": [
    "SetA.issubset(SetX)"
   ]
  },
  {
   "cell_type": "code",
   "execution_count": 90,
   "metadata": {},
   "outputs": [],
   "source": [
    "SetA.add('Purple')"
   ]
  },
  {
   "cell_type": "markdown",
   "metadata": {},
   "source": [
    "SetA is mutable - items can be added or removed"
   ]
  },
  {
   "cell_type": "code",
   "execution_count": 91,
   "metadata": {},
   "outputs": [
    {
     "data": {
      "text/plain": [
       "False"
      ]
     },
     "execution_count": 91,
     "metadata": {},
     "output_type": "execute_result"
    }
   ],
   "source": [
    "SetA.issubset(SetX)"
   ]
  },
  {
   "cell_type": "markdown",
   "metadata": {},
   "source": [
    "SetA is no longer a subset of SetX because setA has the 'Purple element in it."
   ]
  },
  {
   "cell_type": "markdown",
   "metadata": {},
   "source": [
    "#### Working with lists"
   ]
  },
  {
   "cell_type": "markdown",
   "metadata": {},
   "source": [
    "Sequence tyes:\n",
    "\n",
    "* List:  A kind of sequence.  Sequences simply provide some means of allowing multiple data items to exist together in a single storage unit, but as separate entities. Other types of sequences include:\n",
    "\n",
    "* Tuples: A collection used to create complex list-like sequences.  An advantage of tuples is that you can nest the content of a tuple.\n",
    "\n",
    "* Dictionaries: Create key/value pair when using dictionary collection.  A dictionary provdes incredibly fast serach times and makes ordering data significantly easier.\n",
    "\n",
    "* Stacks: A stack is a first in/first out (FIFO) sequence.  A stack is an important collection that you can simulate in Python using a list.\n",
    "\n",
    "* Queues: A last in/first out (FIFO) colleciton.  You use it to track items that need to be processed in some way.\n",
    "\n",
    "* Deques: A double-ended queue (deque) is a queue-like structure that lets you add or remove items from either end, but not from the middle."
   ]
  },
  {
   "cell_type": "code",
   "execution_count": 29,
   "metadata": {},
   "outputs": [
    {
     "data": {
      "text/plain": [
       "[0, 1, 2, 3, 4, 5, 6, 7]"
      ]
     },
     "execution_count": 29,
     "metadata": {},
     "output_type": "execute_result"
    }
   ],
   "source": [
    "ListA = [0, 1, 2, 3]\n",
    "ListB = [4, 5, 6, 7]\n",
    "ListA.extend(ListB)\n",
    "ListA"
   ]
  },
  {
   "cell_type": "code",
   "execution_count": 32,
   "metadata": {},
   "outputs": [
    {
     "data": {
      "text/plain": [
       "[0, 1, 2, 3, [4, 5, 6, 7]]"
      ]
     },
     "execution_count": 32,
     "metadata": {},
     "output_type": "execute_result"
    }
   ],
   "source": [
    "ListA = [0, 1, 2, 3]\n",
    "ListB = [4, 5, 6, 7]\n",
    "ListA.append(ListB)\n",
    "ListA"
   ]
  },
  {
   "cell_type": "markdown",
   "metadata": {},
   "source": [
    "ListOne.append(ListTwo) nests List Two inside List One"
   ]
  },
  {
   "cell_type": "code",
   "execution_count": 34,
   "metadata": {},
   "outputs": [
    {
     "data": {
      "text/plain": [
       "[0, 1, 2, 3, -5]"
      ]
     },
     "execution_count": 34,
     "metadata": {},
     "output_type": "execute_result"
    }
   ],
   "source": [
    "# Add to list A\n",
    "ListA = [0, 1, 2, 3]\n",
    "ListB = [4, 5, 6, 7]\n",
    "ListA.append(-5)\n",
    "ListA"
   ]
  },
  {
   "cell_type": "code",
   "execution_count": 35,
   "metadata": {},
   "outputs": [
    {
     "data": {
      "text/plain": [
       "[0, 1, 2, 3]"
      ]
     },
     "execution_count": 35,
     "metadata": {},
     "output_type": "execute_result"
    }
   ],
   "source": [
    "# Remove from list A\n",
    "ListA.remove(-5)\n",
    "ListA"
   ]
  },
  {
   "cell_type": "code",
   "execution_count": 36,
   "metadata": {},
   "outputs": [
    {
     "data": {
      "text/plain": [
       "[0, 1, 2, 3, 4, 5, 6, 7]"
      ]
     },
     "execution_count": 36,
     "metadata": {},
     "output_type": "execute_result"
    }
   ],
   "source": [
    "# Concatenate\n",
    "ListX = ListA + ListB\n",
    "ListX"
   ]
  },
  {
   "cell_type": "markdown",
   "metadata": {},
   "source": [
    "#### Creating and uisng Tuples\n",
    "\n",
    "Tuples are immutable (cannot change)."
   ]
  },
  {
   "cell_type": "code",
   "execution_count": 38,
   "metadata": {},
   "outputs": [
    {
     "data": {
      "text/plain": [
       "tuple"
      ]
     },
     "execution_count": 38,
     "metadata": {},
     "output_type": "execute_result"
    }
   ],
   "source": [
    "# Nested 3 levels deep Tuple\n",
    "MyTuple = (1, 2, 3, (4, 5, 6, (7, 8, 9)))\n",
    "type(MyTuple)"
   ]
  },
  {
   "cell_type": "code",
   "execution_count": 46,
   "metadata": {},
   "outputs": [
    {
     "name": "stdout",
     "output_type": "stream",
     "text": [
      "1\n",
      "2\n",
      "3\n",
      "\t 4\n",
      "\t 5\n",
      "\t 6\n",
      "\t\t 7\n",
      "\t\t 8\n",
      "\t\t 9\n"
     ]
    }
   ],
   "source": [
    "# value 1: 1, 2, 3 and a tuple\n",
    "# value 2: 4, 5, 6 and a tuple\n",
    "# value 3: 7, 8, 9\n",
    "# \\t is indentation\n",
    "\n",
    "for Value1 in MyTuple:\n",
    "    if type(Value1) == int:\n",
    "        print( Value1)\n",
    "    else:\n",
    "        for Value2 in Value1:\n",
    "            if type(Value2) == int:\n",
    "                print(\"\\t\", Value2)\n",
    "            else:\n",
    "                for Value3 in Value2:\n",
    "                    print(\"\\t\\t\", Value3)                    "
   ]
  },
  {
   "cell_type": "code",
   "execution_count": 107,
   "metadata": {},
   "outputs": [],
   "source": [
    "MyNewTuple = MyTuple.__add__((10, 11, 12, (13, 14, 15))) "
   ]
  },
  {
   "cell_type": "code",
   "execution_count": 108,
   "metadata": {},
   "outputs": [
    {
     "data": {
      "text/plain": [
       "(1, 2, 3, (4, 5, 6, (7, 8, 9)), 10, 11, 12, (13, 14, 15))"
      ]
     },
     "execution_count": 108,
     "metadata": {},
     "output_type": "execute_result"
    }
   ],
   "source": [
    "MyNewTuple"
   ]
  },
  {
   "cell_type": "code",
   "execution_count": 109,
   "metadata": {},
   "outputs": [
    {
     "name": "stdout",
     "output_type": "stream",
     "text": [
      "1\n",
      "2\n",
      "3\n",
      "\t 4\n",
      "\t 5\n",
      "\t 6\n",
      "\t\t 7\n",
      "\t\t 8\n",
      "\t\t 9\n",
      "10\n",
      "11\n",
      "12\n",
      "\t 13\n",
      "\t 14\n",
      "\t 15\n"
     ]
    }
   ],
   "source": [
    "for Value1 in MyNewTuple:\n",
    "    if type(Value1) == int:\n",
    "        print(Value1)\n",
    "    else:\n",
    "        for Value2 in Value1:\n",
    "            if type(Value2) == int:\n",
    "                print(\"\\t\", Value2)\n",
    "            else:\n",
    "                for Value3 in Value2:\n",
    "                    print(\"\\t\\t\", Value3)  "
   ]
  },
  {
   "cell_type": "markdown",
   "metadata": {},
   "source": [
    "### Defining Useful Iterators"
   ]
  },
  {
   "cell_type": "code",
   "execution_count": 49,
   "metadata": {},
   "outputs": [],
   "source": [
    "ListA = ['Orange', 'Yellow', 'Green', 'Brown']\n",
    "ListB = [1, 2, 3, 4]"
   ]
  },
  {
   "cell_type": "code",
   "execution_count": 111,
   "metadata": {},
   "outputs": [
    {
     "data": {
      "text/plain": [
       "'Yellow'"
      ]
     },
     "execution_count": 111,
     "metadata": {},
     "output_type": "execute_result"
    }
   ],
   "source": [
    "# 0 index\n",
    "ListA[1]"
   ]
  },
  {
   "cell_type": "code",
   "execution_count": 112,
   "metadata": {},
   "outputs": [
    {
     "data": {
      "text/plain": [
       "[2, 3]"
      ]
     },
     "execution_count": 112,
     "metadata": {},
     "output_type": "execute_result"
    }
   ],
   "source": [
    "# starting index is inclusive\n",
    "# ending index is exclusive\n",
    "# 0 base index\n",
    "\n",
    "ListB[1:3]"
   ]
  },
  {
   "cell_type": "code",
   "execution_count": 113,
   "metadata": {},
   "outputs": [
    {
     "name": "stdout",
     "output_type": "stream",
     "text": [
      "2\n",
      "3\n"
     ]
    }
   ],
   "source": [
    "for Value in ListB[1:3]:\n",
    "    print(Value)"
   ]
  },
  {
   "cell_type": "code",
   "execution_count": 51,
   "metadata": {},
   "outputs": [
    {
     "name": "stdout",
     "output_type": "stream",
     "text": [
      "Orange 1\n",
      "Yellow 2\n",
      "Green 3\n",
      "Brown 4\n"
     ]
    }
   ],
   "source": [
    "# Process 2 lists in parallel using zip function\n",
    "# Zip returns an iterator that combines multiple iterables into one sequence of tuples\n",
    "\n",
    "for Value1, Value2 in zip(ListA, ListB):\n",
    "    print(Value1, Value2)"
   ]
  },
  {
   "cell_type": "code",
   "execution_count": 52,
   "metadata": {},
   "outputs": [
    {
     "name": "stdout",
     "output_type": "stream",
     "text": [
      "Orange \t 1\n",
      "Yellow \t 2\n",
      "Green \t 3\n",
      "Brown \t 4\n"
     ]
    }
   ],
   "source": [
    "# To organize it in a table like format, use \\t\n",
    "\n",
    "for Value1, Value2 in zip(ListA, ListB):\n",
    "    print(Value1, '\\t', Value2)"
   ]
  },
  {
   "cell_type": "markdown",
   "metadata": {},
   "source": [
    "### Indexing Data Using Dictionaries"
   ]
  },
  {
   "cell_type": "code",
   "execution_count": 116,
   "metadata": {},
   "outputs": [],
   "source": [
    "MyDict = {'Orange':1, \"Blue\":2, 'Pink':3}"
   ]
  },
  {
   "cell_type": "code",
   "execution_count": 117,
   "metadata": {},
   "outputs": [
    {
     "data": {
      "text/plain": [
       "3"
      ]
     },
     "execution_count": 117,
     "metadata": {},
     "output_type": "execute_result"
    }
   ],
   "source": [
    "# Obtain value using a key\n",
    "MyDict['Pink']"
   ]
  },
  {
   "cell_type": "code",
   "execution_count": 118,
   "metadata": {},
   "outputs": [
    {
     "data": {
      "text/plain": [
       "dict_keys(['Orange', 'Blue', 'Pink'])"
      ]
     },
     "execution_count": 118,
     "metadata": {},
     "output_type": "execute_result"
    }
   ],
   "source": [
    "# Obtain all the keys\n",
    "MyDict.keys()"
   ]
  },
  {
   "cell_type": "code",
   "execution_count": 119,
   "metadata": {},
   "outputs": [
    {
     "data": {
      "text/plain": [
       "dict_values([1, 2, 3])"
      ]
     },
     "execution_count": 119,
     "metadata": {},
     "output_type": "execute_result"
    }
   ],
   "source": [
    "# Obtain all the values\n",
    "MyDict.values()"
   ]
  },
  {
   "cell_type": "markdown",
   "metadata": {},
   "source": [
    "## Chapter 5: Working with Real Data\n",
    "### Exercises"
   ]
  },
  {
   "cell_type": "markdown",
   "metadata": {},
   "source": [
    "### Uploading, Streaming, and Sampling Data"
   ]
  },
  {
   "cell_type": "markdown",
   "metadata": {},
   "source": [
    "#### Uploading small amounts of data into memory "
   ]
  },
  {
   "cell_type": "code",
   "execution_count": 127,
   "metadata": {},
   "outputs": [
    {
     "name": "stdout",
     "output_type": "stream",
     "text": [
      "Colors.txt content: \n",
      "Color\tValue\n",
      "Red\t1\n",
      "Orange\t2\n",
      "Yellow\t3\n",
      "Green\t4\n",
      "Blue\t5\n",
      "Purple\t6\n",
      "Black\t7\n",
      "White\t8\n"
     ]
    }
   ],
   "source": [
    "# Open Colors.txt data in read format\n",
    "\n",
    "with open('Colors.txt', 'r') as open_file:\n",
    "    print('Colors.txt content: \\n' + open_file.read())"
   ]
  },
  {
   "cell_type": "markdown",
   "metadata": {},
   "source": [
    "Note: When working with tuple, \\t was used to format the columns properly"
   ]
  },
  {
   "cell_type": "markdown",
   "metadata": {},
   "source": [
    "#### Streaming large amounts of data into memory"
   ]
  },
  {
   "cell_type": "markdown",
   "metadata": {},
   "source": [
    "Streaming makes it possible to work with the data a little at a time.  Some datasets will be so large you won't be able to fit them entirely in memory at one time.  In addition, you may find that some datasets load slowly because they reside on a remote site."
   ]
  },
  {
   "cell_type": "code",
   "execution_count": 128,
   "metadata": {},
   "outputs": [
    {
     "name": "stdout",
     "output_type": "stream",
     "text": [
      "Reading Data: Color\tValue\n",
      "\n",
      "Reading Data: Red\t1\n",
      "\n",
      "Reading Data: Orange\t2\n",
      "\n",
      "Reading Data: Yellow\t3\n",
      "\n",
      "Reading Data: Green\t4\n",
      "\n",
      "Reading Data: Blue\t5\n",
      "\n",
      "Reading Data: Purple\t6\n",
      "\n",
      "Reading Data: Black\t7\n",
      "\n",
      "Reading Data: White\t8\n"
     ]
    }
   ],
   "source": [
    "# stream data using Python\n",
    "\n",
    "with open('Colors.txt', 'r') as open_file:\n",
    "    for observation in open_file:\n",
    "        print('Reading Data: ' + observation)"
   ]
  },
  {
   "cell_type": "markdown",
   "metadata": {},
   "source": [
    "#### Sampling data"
   ]
  },
  {
   "cell_type": "code",
   "execution_count": 55,
   "metadata": {},
   "outputs": [
    {
     "name": "stdout",
     "output_type": "stream",
     "text": [
      "Reading Line 0 Content: Color\tValue\n",
      "\n",
      "Reading Line 3 Content: Yellow\t3\n",
      "\n",
      "Reading Line 6 Content: Purple\t6\n",
      "\n"
     ]
    }
   ],
   "source": [
    "# Retrieve every other record in the Colors.txt\n",
    "# n = 2\n",
    "n = 3\n",
    "with open('Colors.txt', 'r') as open_file:\n",
    "    for j, observation in enumerate(open_file):\n",
    "        if j % n == 0:\n",
    "            print(\"Reading Line \" + str(j) + ' Content: ' + observation)"
   ]
  },
  {
   "cell_type": "markdown",
   "metadata": {},
   "source": [
    "Enumerate returns an iterator of tuples contianing indices and vlaues of a  list.\n",
    "Used when need index along with each element of a iterable in a loop!"
   ]
  },
  {
   "cell_type": "code",
   "execution_count": 57,
   "metadata": {},
   "outputs": [
    {
     "name": "stdout",
     "output_type": "stream",
     "text": [
      "Reading Line: 1 Content: Red\t1\n",
      "\n",
      "Reading Line: 6 Content: Purple\t6\n",
      "\n"
     ]
    }
   ],
   "source": [
    "# Random sampling\n",
    "\n",
    "from random import random\n",
    "sample_size = 0.25\n",
    "with open('Colors.txt', 'r') as open_file:\n",
    "    for j, observation in enumerate(open_file):\n",
    "        if random() <= sample_size:\n",
    "            print('Reading Line: ' + str(j) + ' Content: ' + observation)"
   ]
  },
  {
   "cell_type": "markdown",
   "metadata": {},
   "source": [
    "### Accessing Data in Structured Flat-File Form"
   ]
  },
  {
   "cell_type": "markdown",
   "metadata": {},
   "source": [
    "#### Reading from a text file "
   ]
  },
  {
   "cell_type": "code",
   "execution_count": 59,
   "metadata": {},
   "outputs": [
    {
     "name": "stdout",
     "output_type": "stream",
     "text": [
      "    Color  Value\n",
      "0     Red      1\n",
      "1  Orange      2\n",
      "2  Yellow      3\n",
      "3   Green      4\n",
      "4    Blue      5\n",
      "5  Purple      6\n",
      "6   Black      7\n",
      "7   White      8\n"
     ]
    }
   ],
   "source": [
    "import pandas as pd\n",
    "color_table = pd.read_csv('Colors.txt', sep = \"\\t\")\n",
    "print(color_table)"
   ]
  },
  {
   "cell_type": "markdown",
   "metadata": {},
   "source": [
    "#### Reading CSV delimited format "
   ]
  },
  {
   "cell_type": "code",
   "execution_count": 61,
   "metadata": {},
   "outputs": [
    {
     "name": "stdout",
     "output_type": "stream",
     "text": [
      "{'_is_copy': None, '_data': BlockManager\n",
      "Items: Index(['Unnamed: 0', 'pclass', 'survived', 'sex', 'age', 'sibsp', 'parch'], dtype='object')\n",
      "Axis 1: RangeIndex(start=0, stop=1309, step=1)\n",
      "FloatBlock: slice(4, 5, 1), 1 x 1309, dtype: float64\n",
      "IntBlock: [0, 5, 6], 3 x 1309, dtype: int64\n",
      "ObjectBlock: slice(1, 4, 1), 3 x 1309, dtype: object, '_item_cache': {}}\n",
      "\n",
      " 0         29.0000\n",
      "1          0.9167\n",
      "2          2.0000\n",
      "3         30.0000\n",
      "4         25.0000\n",
      "5         48.0000\n",
      "6         63.0000\n",
      "7         39.0000\n",
      "8         53.0000\n",
      "9         71.0000\n",
      "10        47.0000\n",
      "11        18.0000\n",
      "12        24.0000\n",
      "13        26.0000\n",
      "14        80.0000\n",
      "15      9999.0000\n",
      "16        24.0000\n",
      "17        50.0000\n",
      "18        32.0000\n",
      "19        36.0000\n",
      "20        37.0000\n",
      "21        47.0000\n",
      "22        26.0000\n",
      "23        42.0000\n",
      "24        29.0000\n",
      "25        25.0000\n",
      "26        25.0000\n",
      "27        19.0000\n",
      "28        35.0000\n",
      "29        28.0000\n",
      "          ...    \n",
      "1279      14.0000\n",
      "1280      22.0000\n",
      "1281      22.0000\n",
      "1282    9999.0000\n",
      "1283    9999.0000\n",
      "1284    9999.0000\n",
      "1285      32.5000\n",
      "1286      38.0000\n",
      "1287      51.0000\n",
      "1288      18.0000\n",
      "1289      21.0000\n",
      "1290      47.0000\n",
      "1291    9999.0000\n",
      "1292    9999.0000\n",
      "1293    9999.0000\n",
      "1294      28.5000\n",
      "1295      21.0000\n",
      "1296      27.0000\n",
      "1297    9999.0000\n",
      "1298      36.0000\n",
      "1299      27.0000\n",
      "1300      15.0000\n",
      "1301      45.5000\n",
      "1302    9999.0000\n",
      "1303    9999.0000\n",
      "1304      14.5000\n",
      "1305    9999.0000\n",
      "1306      26.5000\n",
      "1307      27.0000\n",
      "1308      29.0000\n",
      "Name: age, Length: 1309, dtype: float64\n"
     ]
    }
   ],
   "source": [
    "# Import Titanic data\n",
    "\n",
    "titanic = pd.read_csv(\"Titanic.csv\")\n",
    "print(vars(titanic))\n",
    "\n",
    "X = titanic['age']\n",
    "print('\\n',X)"
   ]
  },
  {
   "cell_type": "code",
   "execution_count": 151,
   "metadata": {},
   "outputs": [
    {
     "name": "stdout",
     "output_type": "stream",
     "text": [
      "[29.          0.91670001  2.         ... 26.5        27.\n",
      " 29.        ]\n"
     ]
    }
   ],
   "source": [
    "# Titanic age output as a list\n",
    "\n",
    "Y = titanic['age'].values\n",
    "print(Y)"
   ]
  },
  {
   "cell_type": "markdown",
   "metadata": {},
   "source": [
    "#### Reading Excel and other MS Office files "
   ]
  },
  {
   "cell_type": "code",
   "execution_count": 67,
   "metadata": {},
   "outputs": [
    {
     "data": {
      "text/html": [
       "<div>\n",
       "<style scoped>\n",
       "    .dataframe tbody tr th:only-of-type {\n",
       "        vertical-align: middle;\n",
       "    }\n",
       "\n",
       "    .dataframe tbody tr th {\n",
       "        vertical-align: top;\n",
       "    }\n",
       "\n",
       "    .dataframe thead th {\n",
       "        text-align: right;\n",
       "    }\n",
       "</style>\n",
       "<table border=\"1\" class=\"dataframe\">\n",
       "  <thead>\n",
       "    <tr style=\"text-align: right;\">\n",
       "      <th></th>\n",
       "      <th>Angle (Degrees)</th>\n",
       "      <th>Sine</th>\n",
       "      <th>Cosine</th>\n",
       "      <th>Tangent</th>\n",
       "    </tr>\n",
       "  </thead>\n",
       "  <tbody>\n",
       "    <tr>\n",
       "      <th>0</th>\n",
       "      <td>138.550574</td>\n",
       "      <td>0.661959</td>\n",
       "      <td>-0.749540</td>\n",
       "      <td>-0.883153</td>\n",
       "    </tr>\n",
       "    <tr>\n",
       "      <th>1</th>\n",
       "      <td>305.535745</td>\n",
       "      <td>-0.813753</td>\n",
       "      <td>0.581211</td>\n",
       "      <td>-1.400100</td>\n",
       "    </tr>\n",
       "    <tr>\n",
       "      <th>2</th>\n",
       "      <td>280.518695</td>\n",
       "      <td>-0.983195</td>\n",
       "      <td>0.182556</td>\n",
       "      <td>-5.385709</td>\n",
       "    </tr>\n",
       "    <tr>\n",
       "      <th>3</th>\n",
       "      <td>216.363795</td>\n",
       "      <td>-0.592910</td>\n",
       "      <td>-0.805269</td>\n",
       "      <td>0.736289</td>\n",
       "    </tr>\n",
       "    <tr>\n",
       "      <th>4</th>\n",
       "      <td>36.389247</td>\n",
       "      <td>0.593268</td>\n",
       "      <td>0.805005</td>\n",
       "      <td>0.736974</td>\n",
       "    </tr>\n",
       "    <tr>\n",
       "      <th>5</th>\n",
       "      <td>31.474311</td>\n",
       "      <td>0.522116</td>\n",
       "      <td>0.852874</td>\n",
       "      <td>0.612184</td>\n",
       "    </tr>\n",
       "    <tr>\n",
       "      <th>6</th>\n",
       "      <td>120.121669</td>\n",
       "      <td>0.864962</td>\n",
       "      <td>-0.501838</td>\n",
       "      <td>-1.723588</td>\n",
       "    </tr>\n",
       "    <tr>\n",
       "      <th>7</th>\n",
       "      <td>293.947055</td>\n",
       "      <td>-0.913921</td>\n",
       "      <td>0.405892</td>\n",
       "      <td>-2.251634</td>\n",
       "    </tr>\n",
       "    <tr>\n",
       "      <th>8</th>\n",
       "      <td>179.882632</td>\n",
       "      <td>0.002048</td>\n",
       "      <td>-0.999998</td>\n",
       "      <td>-0.002048</td>\n",
       "    </tr>\n",
       "    <tr>\n",
       "      <th>9</th>\n",
       "      <td>120.927562</td>\n",
       "      <td>0.857818</td>\n",
       "      <td>-0.513954</td>\n",
       "      <td>-1.669056</td>\n",
       "    </tr>\n",
       "    <tr>\n",
       "      <th>10</th>\n",
       "      <td>71.349485</td>\n",
       "      <td>0.947487</td>\n",
       "      <td>0.319795</td>\n",
       "      <td>2.962796</td>\n",
       "    </tr>\n",
       "    <tr>\n",
       "      <th>11</th>\n",
       "      <td>241.971082</td>\n",
       "      <td>-0.882711</td>\n",
       "      <td>-0.469917</td>\n",
       "      <td>1.878439</td>\n",
       "    </tr>\n",
       "    <tr>\n",
       "      <th>12</th>\n",
       "      <td>297.208817</td>\n",
       "      <td>-0.889346</td>\n",
       "      <td>0.457235</td>\n",
       "      <td>-1.945053</td>\n",
       "    </tr>\n",
       "    <tr>\n",
       "      <th>13</th>\n",
       "      <td>142.004551</td>\n",
       "      <td>0.615599</td>\n",
       "      <td>-0.788060</td>\n",
       "      <td>-0.781158</td>\n",
       "    </tr>\n",
       "    <tr>\n",
       "      <th>14</th>\n",
       "      <td>173.770696</td>\n",
       "      <td>0.108508</td>\n",
       "      <td>-0.994096</td>\n",
       "      <td>-0.109152</td>\n",
       "    </tr>\n",
       "    <tr>\n",
       "      <th>15</th>\n",
       "      <td>229.232002</td>\n",
       "      <td>-0.757360</td>\n",
       "      <td>-0.652998</td>\n",
       "      <td>1.159820</td>\n",
       "    </tr>\n",
       "    <tr>\n",
       "      <th>16</th>\n",
       "      <td>67.926976</td>\n",
       "      <td>0.926706</td>\n",
       "      <td>0.375788</td>\n",
       "      <td>2.466033</td>\n",
       "    </tr>\n",
       "    <tr>\n",
       "      <th>17</th>\n",
       "      <td>261.866575</td>\n",
       "      <td>-0.989941</td>\n",
       "      <td>-0.141479</td>\n",
       "      <td>6.997102</td>\n",
       "    </tr>\n",
       "    <tr>\n",
       "      <th>18</th>\n",
       "      <td>59.185450</td>\n",
       "      <td>0.858830</td>\n",
       "      <td>0.512261</td>\n",
       "      <td>1.676547</td>\n",
       "    </tr>\n",
       "    <tr>\n",
       "      <th>19</th>\n",
       "      <td>98.029275</td>\n",
       "      <td>0.990197</td>\n",
       "      <td>-0.139679</td>\n",
       "      <td>-7.089086</td>\n",
       "    </tr>\n",
       "    <tr>\n",
       "      <th>20</th>\n",
       "      <td>9.336088</td>\n",
       "      <td>0.162225</td>\n",
       "      <td>0.986754</td>\n",
       "      <td>0.164403</td>\n",
       "    </tr>\n",
       "    <tr>\n",
       "      <th>21</th>\n",
       "      <td>90.746371</td>\n",
       "      <td>0.999915</td>\n",
       "      <td>-0.013026</td>\n",
       "      <td>-76.761483</td>\n",
       "    </tr>\n",
       "    <tr>\n",
       "      <th>22</th>\n",
       "      <td>217.798087</td>\n",
       "      <td>-0.612881</td>\n",
       "      <td>-0.790175</td>\n",
       "      <td>0.775626</td>\n",
       "    </tr>\n",
       "    <tr>\n",
       "      <th>23</th>\n",
       "      <td>58.616049</td>\n",
       "      <td>0.853697</td>\n",
       "      <td>0.520771</td>\n",
       "      <td>1.639295</td>\n",
       "    </tr>\n",
       "    <tr>\n",
       "      <th>24</th>\n",
       "      <td>197.196367</td>\n",
       "      <td>-0.295647</td>\n",
       "      <td>-0.955297</td>\n",
       "      <td>0.309482</td>\n",
       "    </tr>\n",
       "    <tr>\n",
       "      <th>25</th>\n",
       "      <td>331.194892</td>\n",
       "      <td>-0.481832</td>\n",
       "      <td>0.876264</td>\n",
       "      <td>-0.549871</td>\n",
       "    </tr>\n",
       "    <tr>\n",
       "      <th>26</th>\n",
       "      <td>6.509875</td>\n",
       "      <td>0.113374</td>\n",
       "      <td>0.993552</td>\n",
       "      <td>0.114110</td>\n",
       "    </tr>\n",
       "    <tr>\n",
       "      <th>27</th>\n",
       "      <td>266.390707</td>\n",
       "      <td>-0.998017</td>\n",
       "      <td>-0.062952</td>\n",
       "      <td>15.853513</td>\n",
       "    </tr>\n",
       "    <tr>\n",
       "      <th>28</th>\n",
       "      <td>230.323819</td>\n",
       "      <td>-0.769665</td>\n",
       "      <td>-0.638448</td>\n",
       "      <td>1.205525</td>\n",
       "    </tr>\n",
       "    <tr>\n",
       "      <th>29</th>\n",
       "      <td>314.224257</td>\n",
       "      <td>-0.716615</td>\n",
       "      <td>0.697469</td>\n",
       "      <td>-1.027452</td>\n",
       "    </tr>\n",
       "    <tr>\n",
       "      <th>...</th>\n",
       "      <td>...</td>\n",
       "      <td>...</td>\n",
       "      <td>...</td>\n",
       "      <td>...</td>\n",
       "    </tr>\n",
       "    <tr>\n",
       "      <th>42</th>\n",
       "      <td>324.080564</td>\n",
       "      <td>-0.586647</td>\n",
       "      <td>0.809843</td>\n",
       "      <td>-0.724396</td>\n",
       "    </tr>\n",
       "    <tr>\n",
       "      <th>43</th>\n",
       "      <td>140.893727</td>\n",
       "      <td>0.630761</td>\n",
       "      <td>-0.775977</td>\n",
       "      <td>-0.812860</td>\n",
       "    </tr>\n",
       "    <tr>\n",
       "      <th>44</th>\n",
       "      <td>128.226889</td>\n",
       "      <td>0.785567</td>\n",
       "      <td>-0.618777</td>\n",
       "      <td>-1.269547</td>\n",
       "    </tr>\n",
       "    <tr>\n",
       "      <th>45</th>\n",
       "      <td>82.770054</td>\n",
       "      <td>0.992049</td>\n",
       "      <td>0.125852</td>\n",
       "      <td>7.882680</td>\n",
       "    </tr>\n",
       "    <tr>\n",
       "      <th>46</th>\n",
       "      <td>303.112455</td>\n",
       "      <td>-0.837600</td>\n",
       "      <td>0.546284</td>\n",
       "      <td>-1.533268</td>\n",
       "    </tr>\n",
       "    <tr>\n",
       "      <th>47</th>\n",
       "      <td>164.824273</td>\n",
       "      <td>0.261780</td>\n",
       "      <td>-0.965127</td>\n",
       "      <td>-0.271239</td>\n",
       "    </tr>\n",
       "    <tr>\n",
       "      <th>48</th>\n",
       "      <td>218.829827</td>\n",
       "      <td>-0.627009</td>\n",
       "      <td>-0.779012</td>\n",
       "      <td>0.804878</td>\n",
       "    </tr>\n",
       "    <tr>\n",
       "      <th>49</th>\n",
       "      <td>28.649593</td>\n",
       "      <td>0.479452</td>\n",
       "      <td>0.877568</td>\n",
       "      <td>0.546341</td>\n",
       "    </tr>\n",
       "    <tr>\n",
       "      <th>50</th>\n",
       "      <td>349.336296</td>\n",
       "      <td>-0.185044</td>\n",
       "      <td>0.982730</td>\n",
       "      <td>-0.188296</td>\n",
       "    </tr>\n",
       "    <tr>\n",
       "      <th>51</th>\n",
       "      <td>84.889713</td>\n",
       "      <td>0.996025</td>\n",
       "      <td>0.089073</td>\n",
       "      <td>11.182105</td>\n",
       "    </tr>\n",
       "    <tr>\n",
       "      <th>52</th>\n",
       "      <td>197.935862</td>\n",
       "      <td>-0.307952</td>\n",
       "      <td>-0.951402</td>\n",
       "      <td>0.323683</td>\n",
       "    </tr>\n",
       "    <tr>\n",
       "      <th>53</th>\n",
       "      <td>303.049380</td>\n",
       "      <td>-0.838201</td>\n",
       "      <td>0.545362</td>\n",
       "      <td>-1.536963</td>\n",
       "    </tr>\n",
       "    <tr>\n",
       "      <th>54</th>\n",
       "      <td>183.737235</td>\n",
       "      <td>-0.065181</td>\n",
       "      <td>-0.997873</td>\n",
       "      <td>0.065320</td>\n",
       "    </tr>\n",
       "    <tr>\n",
       "      <th>55</th>\n",
       "      <td>346.153919</td>\n",
       "      <td>-0.239314</td>\n",
       "      <td>0.970942</td>\n",
       "      <td>-0.246477</td>\n",
       "    </tr>\n",
       "    <tr>\n",
       "      <th>56</th>\n",
       "      <td>218.822745</td>\n",
       "      <td>-0.626913</td>\n",
       "      <td>-0.779089</td>\n",
       "      <td>0.804674</td>\n",
       "    </tr>\n",
       "    <tr>\n",
       "      <th>57</th>\n",
       "      <td>243.969070</td>\n",
       "      <td>-0.898557</td>\n",
       "      <td>-0.438856</td>\n",
       "      <td>2.047498</td>\n",
       "    </tr>\n",
       "    <tr>\n",
       "      <th>58</th>\n",
       "      <td>115.600771</td>\n",
       "      <td>0.901827</td>\n",
       "      <td>-0.432098</td>\n",
       "      <td>-2.087089</td>\n",
       "    </tr>\n",
       "    <tr>\n",
       "      <th>59</th>\n",
       "      <td>125.906606</td>\n",
       "      <td>0.809974</td>\n",
       "      <td>-0.586466</td>\n",
       "      <td>-1.381111</td>\n",
       "    </tr>\n",
       "    <tr>\n",
       "      <th>60</th>\n",
       "      <td>200.094363</td>\n",
       "      <td>-0.343567</td>\n",
       "      <td>-0.939128</td>\n",
       "      <td>0.365836</td>\n",
       "    </tr>\n",
       "    <tr>\n",
       "      <th>61</th>\n",
       "      <td>337.860807</td>\n",
       "      <td>-0.376858</td>\n",
       "      <td>0.926271</td>\n",
       "      <td>-0.406855</td>\n",
       "    </tr>\n",
       "    <tr>\n",
       "      <th>62</th>\n",
       "      <td>168.176975</td>\n",
       "      <td>0.204889</td>\n",
       "      <td>-0.978785</td>\n",
       "      <td>-0.209330</td>\n",
       "    </tr>\n",
       "    <tr>\n",
       "      <th>63</th>\n",
       "      <td>305.708155</td>\n",
       "      <td>-0.812000</td>\n",
       "      <td>0.583657</td>\n",
       "      <td>-1.391229</td>\n",
       "    </tr>\n",
       "    <tr>\n",
       "      <th>64</th>\n",
       "      <td>162.656078</td>\n",
       "      <td>0.298107</td>\n",
       "      <td>-0.954533</td>\n",
       "      <td>-0.312306</td>\n",
       "    </tr>\n",
       "    <tr>\n",
       "      <th>65</th>\n",
       "      <td>219.007899</td>\n",
       "      <td>-0.629428</td>\n",
       "      <td>-0.777059</td>\n",
       "      <td>0.810012</td>\n",
       "    </tr>\n",
       "    <tr>\n",
       "      <th>66</th>\n",
       "      <td>222.830465</td>\n",
       "      <td>-0.679831</td>\n",
       "      <td>-0.733368</td>\n",
       "      <td>0.926998</td>\n",
       "    </tr>\n",
       "    <tr>\n",
       "      <th>67</th>\n",
       "      <td>324.199562</td>\n",
       "      <td>-0.584964</td>\n",
       "      <td>0.811059</td>\n",
       "      <td>-0.721234</td>\n",
       "    </tr>\n",
       "    <tr>\n",
       "      <th>68</th>\n",
       "      <td>187.948172</td>\n",
       "      <td>-0.138277</td>\n",
       "      <td>-0.990394</td>\n",
       "      <td>0.139619</td>\n",
       "    </tr>\n",
       "    <tr>\n",
       "      <th>69</th>\n",
       "      <td>270.678249</td>\n",
       "      <td>-0.999930</td>\n",
       "      <td>0.011837</td>\n",
       "      <td>-84.472139</td>\n",
       "    </tr>\n",
       "    <tr>\n",
       "      <th>70</th>\n",
       "      <td>270.779159</td>\n",
       "      <td>-0.999908</td>\n",
       "      <td>0.013598</td>\n",
       "      <td>-73.530885</td>\n",
       "    </tr>\n",
       "    <tr>\n",
       "      <th>71</th>\n",
       "      <td>200.213513</td>\n",
       "      <td>-0.345520</td>\n",
       "      <td>-0.938412</td>\n",
       "      <td>0.368196</td>\n",
       "    </tr>\n",
       "  </tbody>\n",
       "</table>\n",
       "<p>72 rows × 4 columns</p>\n",
       "</div>"
      ],
      "text/plain": [
       "    Angle (Degrees)      Sine    Cosine    Tangent\n",
       "0        138.550574  0.661959 -0.749540  -0.883153\n",
       "1        305.535745 -0.813753  0.581211  -1.400100\n",
       "2        280.518695 -0.983195  0.182556  -5.385709\n",
       "3        216.363795 -0.592910 -0.805269   0.736289\n",
       "4         36.389247  0.593268  0.805005   0.736974\n",
       "5         31.474311  0.522116  0.852874   0.612184\n",
       "6        120.121669  0.864962 -0.501838  -1.723588\n",
       "7        293.947055 -0.913921  0.405892  -2.251634\n",
       "8        179.882632  0.002048 -0.999998  -0.002048\n",
       "9        120.927562  0.857818 -0.513954  -1.669056\n",
       "10        71.349485  0.947487  0.319795   2.962796\n",
       "11       241.971082 -0.882711 -0.469917   1.878439\n",
       "12       297.208817 -0.889346  0.457235  -1.945053\n",
       "13       142.004551  0.615599 -0.788060  -0.781158\n",
       "14       173.770696  0.108508 -0.994096  -0.109152\n",
       "15       229.232002 -0.757360 -0.652998   1.159820\n",
       "16        67.926976  0.926706  0.375788   2.466033\n",
       "17       261.866575 -0.989941 -0.141479   6.997102\n",
       "18        59.185450  0.858830  0.512261   1.676547\n",
       "19        98.029275  0.990197 -0.139679  -7.089086\n",
       "20         9.336088  0.162225  0.986754   0.164403\n",
       "21        90.746371  0.999915 -0.013026 -76.761483\n",
       "22       217.798087 -0.612881 -0.790175   0.775626\n",
       "23        58.616049  0.853697  0.520771   1.639295\n",
       "24       197.196367 -0.295647 -0.955297   0.309482\n",
       "25       331.194892 -0.481832  0.876264  -0.549871\n",
       "26         6.509875  0.113374  0.993552   0.114110\n",
       "27       266.390707 -0.998017 -0.062952  15.853513\n",
       "28       230.323819 -0.769665 -0.638448   1.205525\n",
       "29       314.224257 -0.716615  0.697469  -1.027452\n",
       "..              ...       ...       ...        ...\n",
       "42       324.080564 -0.586647  0.809843  -0.724396\n",
       "43       140.893727  0.630761 -0.775977  -0.812860\n",
       "44       128.226889  0.785567 -0.618777  -1.269547\n",
       "45        82.770054  0.992049  0.125852   7.882680\n",
       "46       303.112455 -0.837600  0.546284  -1.533268\n",
       "47       164.824273  0.261780 -0.965127  -0.271239\n",
       "48       218.829827 -0.627009 -0.779012   0.804878\n",
       "49        28.649593  0.479452  0.877568   0.546341\n",
       "50       349.336296 -0.185044  0.982730  -0.188296\n",
       "51        84.889713  0.996025  0.089073  11.182105\n",
       "52       197.935862 -0.307952 -0.951402   0.323683\n",
       "53       303.049380 -0.838201  0.545362  -1.536963\n",
       "54       183.737235 -0.065181 -0.997873   0.065320\n",
       "55       346.153919 -0.239314  0.970942  -0.246477\n",
       "56       218.822745 -0.626913 -0.779089   0.804674\n",
       "57       243.969070 -0.898557 -0.438856   2.047498\n",
       "58       115.600771  0.901827 -0.432098  -2.087089\n",
       "59       125.906606  0.809974 -0.586466  -1.381111\n",
       "60       200.094363 -0.343567 -0.939128   0.365836\n",
       "61       337.860807 -0.376858  0.926271  -0.406855\n",
       "62       168.176975  0.204889 -0.978785  -0.209330\n",
       "63       305.708155 -0.812000  0.583657  -1.391229\n",
       "64       162.656078  0.298107 -0.954533  -0.312306\n",
       "65       219.007899 -0.629428 -0.777059   0.810012\n",
       "66       222.830465 -0.679831 -0.733368   0.926998\n",
       "67       324.199562 -0.584964  0.811059  -0.721234\n",
       "68       187.948172 -0.138277 -0.990394   0.139619\n",
       "69       270.678249 -0.999930  0.011837 -84.472139\n",
       "70       270.779159 -0.999908  0.013598 -73.530885\n",
       "71       200.213513 -0.345520 -0.938412   0.368196\n",
       "\n",
       "[72 rows x 4 columns]"
      ]
     },
     "execution_count": 67,
     "metadata": {},
     "output_type": "execute_result"
    }
   ],
   "source": [
    "# Import sheet 1 of Values.xls\n",
    "\n",
    "trig_values = pd.read_excel('Values.xls', 'Sheet1', index_col=None, na_values=['NA'])\n",
    "trig_values"
   ]
  },
  {
   "cell_type": "markdown",
   "metadata": {},
   "source": [
    "### Sending Data in Unstructured File Fomr"
   ]
  },
  {
   "cell_type": "markdown",
   "metadata": {},
   "source": [
    "Unstructured file formats rely on the file user to know how to interpret the data."
   ]
  },
  {
   "cell_type": "code",
   "execution_count": 65,
   "metadata": {},
   "outputs": [
    {
     "data": {
      "image/png": "[encoded data removed]",
      "text/plain": [
       "<Figure size 432x288 with 1 Axes>"
      ]
     },
     "metadata": {
      "needs_background": "light"
     },
     "output_type": "display_data"
    }
   ],
   "source": [
    "from skimage.io import imread\n",
    "from skimage.transform import resize\n",
    "from matplotlib import pyplot as plt\n",
    "import matplotlib.cm as cm\n",
    "\n",
    "example_file = (\"http://upload.wikimedia.org/\" + \"wikipedia/commons/7/7d/Dog_face.png\")\n",
    "image = imread(example_file, as_gray = False)\n",
    "plt.imshow(image, cmap=cm.gray)\n",
    "plt.show()"
   ]
  },
  {
   "cell_type": "code",
   "execution_count": 66,
   "metadata": {},
   "outputs": [
    {
     "name": "stdout",
     "output_type": "stream",
     "text": [
      "data type: <class 'numpy.ndarray'>, shape: (90, 90, 3)\n"
     ]
    }
   ],
   "source": [
    "print('data type: %s, shape: %s' % (type(image), image.shape))"
   ]
  },
  {
   "cell_type": "code",
   "execution_count": 164,
   "metadata": {},
   "outputs": [
    {
     "data": {
      "image/png": "[encoded data removed]",
      "text/plain": [
       "<Figure size 432x288 with 1 Axes>"
      ]
     },
     "metadata": {
      "needs_background": "light"
     },
     "output_type": "display_data"
    }
   ],
   "source": [
    "# Manipulate the image array\n",
    "# Crop the image\n",
    "\n",
    "image2 = image[5:70, 0:70]\n",
    "plt.imshow(image2, cmap=cm.gray)\n",
    "plt.show()"
   ]
  },
  {
   "cell_type": "code",
   "execution_count": 171,
   "metadata": {},
   "outputs": [
    {
     "name": "stdout",
     "output_type": "stream",
     "text": [
      "data type: <class 'numpy.ndarray'>, shape: (30, 30)\n"
     ]
    },
    {
     "data": {
      "image/png": "[encoded data removed]",
      "text/plain": [
       "<Figure size 432x288 with 1 Axes>"
      ]
     },
     "metadata": {
      "needs_background": "light"
     },
     "output_type": "display_data"
    }
   ],
   "source": [
    "# Resize the image\n",
    "\n",
    "image3 = resize(image2, (30, 30), mode='wrap')\n",
    "plt.imshow(image3, cmap=cm.gray)\n",
    "print(\"data type: %s, shape: %s\" % (type(image3), image3.shape))"
   ]
  },
  {
   "cell_type": "code",
   "execution_count": 173,
   "metadata": {},
   "outputs": [
    {
     "name": "stdout",
     "output_type": "stream",
     "text": [
      "data type: <class 'numpy.ndarray'>, shape: (900,)\n"
     ]
    }
   ],
   "source": [
    "# Flatten the image so that it becomes an array of 900 elements that is stored in image_row.\n",
    "\n",
    "image_row = image3.flatten()\n",
    "print('data type: %s, shape: %s' % (type(image_row), image_row.shape))"
   ]
  },
  {
   "cell_type": "markdown",
   "metadata": {},
   "source": [
    "### Managing Data from Relational Databases"
   ]
  },
  {
   "cell_type": "code",
   "execution_count": 174,
   "metadata": {},
   "outputs": [],
   "source": [
    "# Gain access to the database engine\n",
    "\n",
    "from sqlalchemy import create_engine\n",
    "engine = create_engine('sqlite:///:memory:')"
   ]
  },
  {
   "cell_type": "markdown",
   "metadata": {},
   "source": [
    "### Interacting with Data from NoSQL Databases\n",
    "Skip this section"
   ]
  },
  {
   "cell_type": "markdown",
   "metadata": {},
   "source": [
    "### Accessing Data from the Web"
   ]
  },
  {
   "cell_type": "code",
   "execution_count": 176,
   "metadata": {},
   "outputs": [
    {
     "name": "stdout",
     "output_type": "stream",
     "text": [
      "  Number  String Boolean\n",
      "0      1   First    True\n",
      "1      2  Second   False\n",
      "2      3   Third    True\n",
      "3      4  Fourth   False\n"
     ]
    }
   ],
   "source": [
    "from lxml import objectify\n",
    "import pandas as pd\n",
    "\n",
    "xml = objectify.parse(open('XMLData.xml'))\n",
    "root = xml.getroot()\n",
    "\n",
    "df = pd.DataFrame(columns=('Number', 'String', 'Boolean'))\n",
    "\n",
    "for i in range(0,4):\n",
    "    obj = root.getchildren()[i].getchildren()\n",
    "    row = dict(zip(['Number', 'String', 'Boolean'],\n",
    "                   [obj[0].text, obj[1].text, obj[2].text]))\n",
    "    row_s = pd.Series(row)\n",
    "    row_s.name = i\n",
    "    df = df.append(row_s)\n",
    "\n",
    "print(df)"
   ]
  },
  {
   "cell_type": "markdown",
   "metadata": {},
   "source": [
    "# Example of a .CSV file"
   ]
  },
  {
   "cell_type": "code",
   "execution_count": 183,
   "metadata": {},
   "outputs": [
    {
     "ename": "SyntaxError",
     "evalue": "(unicode error) 'unicodeescape' codec can't decode bytes in position 2-3: truncated \\UXXXXXXXX escape (<ipython-input-183-2f664b0674ab>, line 1)",
     "output_type": "error",
     "traceback": [
      "\u001b[1;36m  File \u001b[1;32m\"<ipython-input-183-2f664b0674ab>\"\u001b[1;36m, line \u001b[1;32m1\u001b[0m\n\u001b[1;33m    newProducts2017 = pd.read_csv('C:\\Users\\muift\\Documents\\UT Data Analytics Data\\R_Projects\\C2T3\\newproduct2017.csv')\u001b[0m\n\u001b[1;37m                                 ^\u001b[0m\n\u001b[1;31mSyntaxError\u001b[0m\u001b[1;31m:\u001b[0m (unicode error) 'unicodeescape' codec can't decode bytes in position 2-3: truncated \\UXXXXXXXX escape\n"
     ]
    }
   ],
   "source": [
    "newProducts2017 = pd.read_csv('C:\\Users\\muift\\Documents\\UT Data Analytics Data\\R_Projects\\C2T3\\newproduct2017.csv')\n",
    "newProducts2017"
   ]
  },
  {
   "cell_type": "markdown",
   "metadata": {},
   "source": [
    "Convert normal string to raw string\n",
    "\n",
    "https://stackoverflow.com/questions/37400974/unicode-error-unicodeescape-codec-cant-decode-bytes-in-position-2-3-trunca"
   ]
  },
  {
   "cell_type": "code",
   "execution_count": 184,
   "metadata": {
    "scrolled": true
   },
   "outputs": [
    {
     "data": {
      "text/html": [
       "<div>\n",
       "<style scoped>\n",
       "    .dataframe tbody tr th:only-of-type {\n",
       "        vertical-align: middle;\n",
       "    }\n",
       "\n",
       "    .dataframe tbody tr th {\n",
       "        vertical-align: top;\n",
       "    }\n",
       "\n",
       "    .dataframe thead th {\n",
       "        text-align: right;\n",
       "    }\n",
       "</style>\n",
       "<table border=\"1\" class=\"dataframe\">\n",
       "  <thead>\n",
       "    <tr style=\"text-align: right;\">\n",
       "      <th></th>\n",
       "      <th>ProductType</th>\n",
       "      <th>ProductNum</th>\n",
       "      <th>Price</th>\n",
       "      <th>x5StarReviews</th>\n",
       "      <th>x4StarReviews</th>\n",
       "      <th>x3StarReviews</th>\n",
       "      <th>x2StarReviews</th>\n",
       "      <th>x1StarReviews</th>\n",
       "      <th>PositiveServiceReview</th>\n",
       "      <th>NegativeServiceReview</th>\n",
       "      <th>Recommendproduct</th>\n",
       "      <th>BestSellersRank</th>\n",
       "      <th>ShippingWeight</th>\n",
       "      <th>ProductDepth</th>\n",
       "      <th>ProductWidth</th>\n",
       "      <th>ProductHeight</th>\n",
       "      <th>ProfitMargin</th>\n",
       "      <th>Volume</th>\n",
       "    </tr>\n",
       "  </thead>\n",
       "  <tbody>\n",
       "    <tr>\n",
       "      <th>0</th>\n",
       "      <td>PC</td>\n",
       "      <td>171</td>\n",
       "      <td>699.00</td>\n",
       "      <td>96</td>\n",
       "      <td>26</td>\n",
       "      <td>14</td>\n",
       "      <td>14</td>\n",
       "      <td>25</td>\n",
       "      <td>12</td>\n",
       "      <td>3</td>\n",
       "      <td>0.7</td>\n",
       "      <td>2498</td>\n",
       "      <td>19.90</td>\n",
       "      <td>20.63</td>\n",
       "      <td>19.25</td>\n",
       "      <td>8.39</td>\n",
       "      <td>0.25</td>\n",
       "      <td>0</td>\n",
       "    </tr>\n",
       "    <tr>\n",
       "      <th>1</th>\n",
       "      <td>PC</td>\n",
       "      <td>172</td>\n",
       "      <td>860.00</td>\n",
       "      <td>51</td>\n",
       "      <td>11</td>\n",
       "      <td>10</td>\n",
       "      <td>10</td>\n",
       "      <td>21</td>\n",
       "      <td>7</td>\n",
       "      <td>5</td>\n",
       "      <td>0.6</td>\n",
       "      <td>490</td>\n",
       "      <td>27.00</td>\n",
       "      <td>21.89</td>\n",
       "      <td>27.01</td>\n",
       "      <td>9.13</td>\n",
       "      <td>0.20</td>\n",
       "      <td>0</td>\n",
       "    </tr>\n",
       "    <tr>\n",
       "      <th>2</th>\n",
       "      <td>Laptop</td>\n",
       "      <td>173</td>\n",
       "      <td>1199.00</td>\n",
       "      <td>74</td>\n",
       "      <td>10</td>\n",
       "      <td>3</td>\n",
       "      <td>3</td>\n",
       "      <td>11</td>\n",
       "      <td>11</td>\n",
       "      <td>5</td>\n",
       "      <td>0.8</td>\n",
       "      <td>111</td>\n",
       "      <td>6.60</td>\n",
       "      <td>8.94</td>\n",
       "      <td>12.80</td>\n",
       "      <td>0.68</td>\n",
       "      <td>0.10</td>\n",
       "      <td>0</td>\n",
       "    </tr>\n",
       "    <tr>\n",
       "      <th>3</th>\n",
       "      <td>Laptop</td>\n",
       "      <td>175</td>\n",
       "      <td>1199.00</td>\n",
       "      <td>7</td>\n",
       "      <td>2</td>\n",
       "      <td>1</td>\n",
       "      <td>1</td>\n",
       "      <td>1</td>\n",
       "      <td>2</td>\n",
       "      <td>1</td>\n",
       "      <td>0.6</td>\n",
       "      <td>4446</td>\n",
       "      <td>13.00</td>\n",
       "      <td>16.30</td>\n",
       "      <td>10.80</td>\n",
       "      <td>1.40</td>\n",
       "      <td>0.15</td>\n",
       "      <td>0</td>\n",
       "    </tr>\n",
       "    <tr>\n",
       "      <th>4</th>\n",
       "      <td>Laptop</td>\n",
       "      <td>176</td>\n",
       "      <td>1999.00</td>\n",
       "      <td>1</td>\n",
       "      <td>1</td>\n",
       "      <td>1</td>\n",
       "      <td>3</td>\n",
       "      <td>0</td>\n",
       "      <td>0</td>\n",
       "      <td>1</td>\n",
       "      <td>0.3</td>\n",
       "      <td>2820</td>\n",
       "      <td>11.60</td>\n",
       "      <td>16.81</td>\n",
       "      <td>10.90</td>\n",
       "      <td>0.88</td>\n",
       "      <td>0.23</td>\n",
       "      <td>0</td>\n",
       "    </tr>\n",
       "    <tr>\n",
       "      <th>5</th>\n",
       "      <td>Netbook</td>\n",
       "      <td>178</td>\n",
       "      <td>399.99</td>\n",
       "      <td>19</td>\n",
       "      <td>8</td>\n",
       "      <td>4</td>\n",
       "      <td>1</td>\n",
       "      <td>10</td>\n",
       "      <td>2</td>\n",
       "      <td>4</td>\n",
       "      <td>0.6</td>\n",
       "      <td>4140</td>\n",
       "      <td>5.80</td>\n",
       "      <td>8.43</td>\n",
       "      <td>11.42</td>\n",
       "      <td>1.20</td>\n",
       "      <td>0.08</td>\n",
       "      <td>0</td>\n",
       "    </tr>\n",
       "    <tr>\n",
       "      <th>6</th>\n",
       "      <td>Netbook</td>\n",
       "      <td>180</td>\n",
       "      <td>329.00</td>\n",
       "      <td>312</td>\n",
       "      <td>112</td>\n",
       "      <td>28</td>\n",
       "      <td>31</td>\n",
       "      <td>47</td>\n",
       "      <td>28</td>\n",
       "      <td>16</td>\n",
       "      <td>0.7</td>\n",
       "      <td>2699</td>\n",
       "      <td>4.60</td>\n",
       "      <td>10.17</td>\n",
       "      <td>7.28</td>\n",
       "      <td>0.95</td>\n",
       "      <td>0.09</td>\n",
       "      <td>0</td>\n",
       "    </tr>\n",
       "    <tr>\n",
       "      <th>7</th>\n",
       "      <td>Netbook</td>\n",
       "      <td>181</td>\n",
       "      <td>439.00</td>\n",
       "      <td>23</td>\n",
       "      <td>18</td>\n",
       "      <td>7</td>\n",
       "      <td>22</td>\n",
       "      <td>18</td>\n",
       "      <td>5</td>\n",
       "      <td>16</td>\n",
       "      <td>0.4</td>\n",
       "      <td>1704</td>\n",
       "      <td>4.80</td>\n",
       "      <td>8.00</td>\n",
       "      <td>11.70</td>\n",
       "      <td>1.50</td>\n",
       "      <td>0.11</td>\n",
       "      <td>0</td>\n",
       "    </tr>\n",
       "    <tr>\n",
       "      <th>8</th>\n",
       "      <td>Netbook</td>\n",
       "      <td>183</td>\n",
       "      <td>330.00</td>\n",
       "      <td>3</td>\n",
       "      <td>4</td>\n",
       "      <td>0</td>\n",
       "      <td>1</td>\n",
       "      <td>0</td>\n",
       "      <td>1</td>\n",
       "      <td>0</td>\n",
       "      <td>0.7</td>\n",
       "      <td>5128</td>\n",
       "      <td>4.30</td>\n",
       "      <td>7.40</td>\n",
       "      <td>10.40</td>\n",
       "      <td>0.97</td>\n",
       "      <td>0.09</td>\n",
       "      <td>0</td>\n",
       "    </tr>\n",
       "    <tr>\n",
       "      <th>9</th>\n",
       "      <td>Tablet</td>\n",
       "      <td>186</td>\n",
       "      <td>629.00</td>\n",
       "      <td>296</td>\n",
       "      <td>66</td>\n",
       "      <td>30</td>\n",
       "      <td>21</td>\n",
       "      <td>36</td>\n",
       "      <td>28</td>\n",
       "      <td>9</td>\n",
       "      <td>0.8</td>\n",
       "      <td>34</td>\n",
       "      <td>3.00</td>\n",
       "      <td>7.31</td>\n",
       "      <td>9.50</td>\n",
       "      <td>0.37</td>\n",
       "      <td>0.10</td>\n",
       "      <td>0</td>\n",
       "    </tr>\n",
       "    <tr>\n",
       "      <th>10</th>\n",
       "      <td>Tablet</td>\n",
       "      <td>187</td>\n",
       "      <td>199.00</td>\n",
       "      <td>943</td>\n",
       "      <td>437</td>\n",
       "      <td>224</td>\n",
       "      <td>160</td>\n",
       "      <td>247</td>\n",
       "      <td>90</td>\n",
       "      <td>23</td>\n",
       "      <td>0.8</td>\n",
       "      <td>1</td>\n",
       "      <td>0.90</td>\n",
       "      <td>5.40</td>\n",
       "      <td>7.60</td>\n",
       "      <td>0.40</td>\n",
       "      <td>0.20</td>\n",
       "      <td>0</td>\n",
       "    </tr>\n",
       "    <tr>\n",
       "      <th>11</th>\n",
       "      <td>Smartphone</td>\n",
       "      <td>193</td>\n",
       "      <td>199.00</td>\n",
       "      <td>99</td>\n",
       "      <td>26</td>\n",
       "      <td>12</td>\n",
       "      <td>16</td>\n",
       "      <td>35</td>\n",
       "      <td>8</td>\n",
       "      <td>6</td>\n",
       "      <td>0.4</td>\n",
       "      <td>1277</td>\n",
       "      <td>0.90</td>\n",
       "      <td>2.70</td>\n",
       "      <td>5.20</td>\n",
       "      <td>0.40</td>\n",
       "      <td>0.11</td>\n",
       "      <td>0</td>\n",
       "    </tr>\n",
       "    <tr>\n",
       "      <th>12</th>\n",
       "      <td>Smartphone</td>\n",
       "      <td>194</td>\n",
       "      <td>49.00</td>\n",
       "      <td>100</td>\n",
       "      <td>26</td>\n",
       "      <td>37</td>\n",
       "      <td>33</td>\n",
       "      <td>48</td>\n",
       "      <td>14</td>\n",
       "      <td>6</td>\n",
       "      <td>0.6</td>\n",
       "      <td>16966</td>\n",
       "      <td>0.70</td>\n",
       "      <td>2.67</td>\n",
       "      <td>5.33</td>\n",
       "      <td>0.37</td>\n",
       "      <td>0.12</td>\n",
       "      <td>0</td>\n",
       "    </tr>\n",
       "    <tr>\n",
       "      <th>13</th>\n",
       "      <td>Smartphone</td>\n",
       "      <td>195</td>\n",
       "      <td>149.00</td>\n",
       "      <td>42</td>\n",
       "      <td>8</td>\n",
       "      <td>4</td>\n",
       "      <td>4</td>\n",
       "      <td>9</td>\n",
       "      <td>4</td>\n",
       "      <td>1</td>\n",
       "      <td>0.7</td>\n",
       "      <td>6316</td>\n",
       "      <td>0.80</td>\n",
       "      <td>2.70</td>\n",
       "      <td>5.30</td>\n",
       "      <td>0.40</td>\n",
       "      <td>0.15</td>\n",
       "      <td>0</td>\n",
       "    </tr>\n",
       "    <tr>\n",
       "      <th>14</th>\n",
       "      <td>Smartphone</td>\n",
       "      <td>196</td>\n",
       "      <td>300.00</td>\n",
       "      <td>50</td>\n",
       "      <td>19</td>\n",
       "      <td>13</td>\n",
       "      <td>20</td>\n",
       "      <td>22</td>\n",
       "      <td>5</td>\n",
       "      <td>7</td>\n",
       "      <td>0.6</td>\n",
       "      <td>44465</td>\n",
       "      <td>0.90</td>\n",
       "      <td>2.60</td>\n",
       "      <td>5.00</td>\n",
       "      <td>0.40</td>\n",
       "      <td>0.11</td>\n",
       "      <td>0</td>\n",
       "    </tr>\n",
       "    <tr>\n",
       "      <th>15</th>\n",
       "      <td>GameConsole</td>\n",
       "      <td>199</td>\n",
       "      <td>249.99</td>\n",
       "      <td>462</td>\n",
       "      <td>97</td>\n",
       "      <td>25</td>\n",
       "      <td>17</td>\n",
       "      <td>58</td>\n",
       "      <td>32</td>\n",
       "      <td>12</td>\n",
       "      <td>0.8</td>\n",
       "      <td>115</td>\n",
       "      <td>8.40</td>\n",
       "      <td>6.20</td>\n",
       "      <td>13.20</td>\n",
       "      <td>13.20</td>\n",
       "      <td>0.09</td>\n",
       "      <td>0</td>\n",
       "    </tr>\n",
       "    <tr>\n",
       "      <th>16</th>\n",
       "      <td>Display</td>\n",
       "      <td>201</td>\n",
       "      <td>140.00</td>\n",
       "      <td>4</td>\n",
       "      <td>0</td>\n",
       "      <td>0</td>\n",
       "      <td>0</td>\n",
       "      <td>2</td>\n",
       "      <td>1</td>\n",
       "      <td>1</td>\n",
       "      <td>0.7</td>\n",
       "      <td>324</td>\n",
       "      <td>8.90</td>\n",
       "      <td>13.60</td>\n",
       "      <td>17.60</td>\n",
       "      <td>7.30</td>\n",
       "      <td>0.05</td>\n",
       "      <td>0</td>\n",
       "    </tr>\n",
       "    <tr>\n",
       "      <th>17</th>\n",
       "      <td>Accessories</td>\n",
       "      <td>301</td>\n",
       "      <td>20.99</td>\n",
       "      <td>30</td>\n",
       "      <td>1</td>\n",
       "      <td>5</td>\n",
       "      <td>0</td>\n",
       "      <td>0</td>\n",
       "      <td>2</td>\n",
       "      <td>0</td>\n",
       "      <td>0.9</td>\n",
       "      <td>18</td>\n",
       "      <td>0.75</td>\n",
       "      <td>10.70</td>\n",
       "      <td>13.10</td>\n",
       "      <td>0.60</td>\n",
       "      <td>0.05</td>\n",
       "      <td>0</td>\n",
       "    </tr>\n",
       "    <tr>\n",
       "      <th>18</th>\n",
       "      <td>Accessories</td>\n",
       "      <td>302</td>\n",
       "      <td>8.50</td>\n",
       "      <td>25</td>\n",
       "      <td>2</td>\n",
       "      <td>2</td>\n",
       "      <td>4</td>\n",
       "      <td>15</td>\n",
       "      <td>2</td>\n",
       "      <td>1</td>\n",
       "      <td>0.5</td>\n",
       "      <td>38</td>\n",
       "      <td>1.00</td>\n",
       "      <td>7.30</td>\n",
       "      <td>7.00</td>\n",
       "      <td>1.60</td>\n",
       "      <td>0.10</td>\n",
       "      <td>0</td>\n",
       "    </tr>\n",
       "    <tr>\n",
       "      <th>19</th>\n",
       "      <td>Software</td>\n",
       "      <td>303</td>\n",
       "      <td>70.99</td>\n",
       "      <td>29</td>\n",
       "      <td>18</td>\n",
       "      <td>3</td>\n",
       "      <td>1</td>\n",
       "      <td>8</td>\n",
       "      <td>4</td>\n",
       "      <td>2</td>\n",
       "      <td>0.8</td>\n",
       "      <td>122</td>\n",
       "      <td>0.20</td>\n",
       "      <td>8.00</td>\n",
       "      <td>7.00</td>\n",
       "      <td>1.00</td>\n",
       "      <td>0.20</td>\n",
       "      <td>0</td>\n",
       "    </tr>\n",
       "    <tr>\n",
       "      <th>20</th>\n",
       "      <td>Printer</td>\n",
       "      <td>304</td>\n",
       "      <td>199.99</td>\n",
       "      <td>88</td>\n",
       "      <td>8</td>\n",
       "      <td>3</td>\n",
       "      <td>1</td>\n",
       "      <td>3</td>\n",
       "      <td>5</td>\n",
       "      <td>1</td>\n",
       "      <td>0.8</td>\n",
       "      <td>40</td>\n",
       "      <td>42.00</td>\n",
       "      <td>17.30</td>\n",
       "      <td>23.50</td>\n",
       "      <td>25.80</td>\n",
       "      <td>0.90</td>\n",
       "      <td>0</td>\n",
       "    </tr>\n",
       "    <tr>\n",
       "      <th>21</th>\n",
       "      <td>PrinterSupplies</td>\n",
       "      <td>305</td>\n",
       "      <td>20.99</td>\n",
       "      <td>5</td>\n",
       "      <td>0</td>\n",
       "      <td>0</td>\n",
       "      <td>0</td>\n",
       "      <td>0</td>\n",
       "      <td>1</td>\n",
       "      <td>0</td>\n",
       "      <td>1.0</td>\n",
       "      <td>1011</td>\n",
       "      <td>1.00</td>\n",
       "      <td>4.70</td>\n",
       "      <td>2.90</td>\n",
       "      <td>6.30</td>\n",
       "      <td>0.30</td>\n",
       "      <td>0</td>\n",
       "    </tr>\n",
       "    <tr>\n",
       "      <th>22</th>\n",
       "      <td>ExtendedWarranty</td>\n",
       "      <td>306</td>\n",
       "      <td>99.99</td>\n",
       "      <td>0</td>\n",
       "      <td>1</td>\n",
       "      <td>1</td>\n",
       "      <td>1</td>\n",
       "      <td>1</td>\n",
       "      <td>0</td>\n",
       "      <td>3</td>\n",
       "      <td>0.4</td>\n",
       "      <td>5</td>\n",
       "      <td>0.20</td>\n",
       "      <td>0.00</td>\n",
       "      <td>0.00</td>\n",
       "      <td>0.00</td>\n",
       "      <td>0.40</td>\n",
       "      <td>0</td>\n",
       "    </tr>\n",
       "    <tr>\n",
       "      <th>23</th>\n",
       "      <td>GameConsole</td>\n",
       "      <td>307</td>\n",
       "      <td>425.00</td>\n",
       "      <td>1525</td>\n",
       "      <td>252</td>\n",
       "      <td>99</td>\n",
       "      <td>56</td>\n",
       "      <td>45</td>\n",
       "      <td>59</td>\n",
       "      <td>13</td>\n",
       "      <td>0.9</td>\n",
       "      <td>215</td>\n",
       "      <td>20.00</td>\n",
       "      <td>8.50</td>\n",
       "      <td>6.00</td>\n",
       "      <td>1.75</td>\n",
       "      <td>0.18</td>\n",
       "      <td>0</td>\n",
       "    </tr>\n",
       "  </tbody>\n",
       "</table>\n",
       "</div>"
      ],
      "text/plain": [
       "         ProductType  ProductNum    Price  x5StarReviews  x4StarReviews  \\\n",
       "0                 PC         171   699.00             96             26   \n",
       "1                 PC         172   860.00             51             11   \n",
       "2             Laptop         173  1199.00             74             10   \n",
       "3             Laptop         175  1199.00              7              2   \n",
       "4             Laptop         176  1999.00              1              1   \n",
       "5            Netbook         178   399.99             19              8   \n",
       "6            Netbook         180   329.00            312            112   \n",
       "7            Netbook         181   439.00             23             18   \n",
       "8            Netbook         183   330.00              3              4   \n",
       "9             Tablet         186   629.00            296             66   \n",
       "10            Tablet         187   199.00            943            437   \n",
       "11        Smartphone         193   199.00             99             26   \n",
       "12        Smartphone         194    49.00            100             26   \n",
       "13        Smartphone         195   149.00             42              8   \n",
       "14        Smartphone         196   300.00             50             19   \n",
       "15       GameConsole         199   249.99            462             97   \n",
       "16           Display         201   140.00              4              0   \n",
       "17       Accessories         301    20.99             30              1   \n",
       "18       Accessories         302     8.50             25              2   \n",
       "19          Software         303    70.99             29             18   \n",
       "20           Printer         304   199.99             88              8   \n",
       "21   PrinterSupplies         305    20.99              5              0   \n",
       "22  ExtendedWarranty         306    99.99              0              1   \n",
       "23       GameConsole         307   425.00           1525            252   \n",
       "\n",
       "    x3StarReviews  x2StarReviews  x1StarReviews  PositiveServiceReview  \\\n",
       "0              14             14             25                     12   \n",
       "1              10             10             21                      7   \n",
       "2               3              3             11                     11   \n",
       "3               1              1              1                      2   \n",
       "4               1              3              0                      0   \n",
       "5               4              1             10                      2   \n",
       "6              28             31             47                     28   \n",
       "7               7             22             18                      5   \n",
       "8               0              1              0                      1   \n",
       "9              30             21             36                     28   \n",
       "10            224            160            247                     90   \n",
       "11             12             16             35                      8   \n",
       "12             37             33             48                     14   \n",
       "13              4              4              9                      4   \n",
       "14             13             20             22                      5   \n",
       "15             25             17             58                     32   \n",
       "16              0              0              2                      1   \n",
       "17              5              0              0                      2   \n",
       "18              2              4             15                      2   \n",
       "19              3              1              8                      4   \n",
       "20              3              1              3                      5   \n",
       "21              0              0              0                      1   \n",
       "22              1              1              1                      0   \n",
       "23             99             56             45                     59   \n",
       "\n",
       "    NegativeServiceReview  Recommendproduct  BestSellersRank  ShippingWeight  \\\n",
       "0                       3               0.7             2498           19.90   \n",
       "1                       5               0.6              490           27.00   \n",
       "2                       5               0.8              111            6.60   \n",
       "3                       1               0.6             4446           13.00   \n",
       "4                       1               0.3             2820           11.60   \n",
       "5                       4               0.6             4140            5.80   \n",
       "6                      16               0.7             2699            4.60   \n",
       "7                      16               0.4             1704            4.80   \n",
       "8                       0               0.7             5128            4.30   \n",
       "9                       9               0.8               34            3.00   \n",
       "10                     23               0.8                1            0.90   \n",
       "11                      6               0.4             1277            0.90   \n",
       "12                      6               0.6            16966            0.70   \n",
       "13                      1               0.7             6316            0.80   \n",
       "14                      7               0.6            44465            0.90   \n",
       "15                     12               0.8              115            8.40   \n",
       "16                      1               0.7              324            8.90   \n",
       "17                      0               0.9               18            0.75   \n",
       "18                      1               0.5               38            1.00   \n",
       "19                      2               0.8              122            0.20   \n",
       "20                      1               0.8               40           42.00   \n",
       "21                      0               1.0             1011            1.00   \n",
       "22                      3               0.4                5            0.20   \n",
       "23                     13               0.9              215           20.00   \n",
       "\n",
       "    ProductDepth  ProductWidth  ProductHeight  ProfitMargin  Volume  \n",
       "0          20.63         19.25           8.39          0.25       0  \n",
       "1          21.89         27.01           9.13          0.20       0  \n",
       "2           8.94         12.80           0.68          0.10       0  \n",
       "3          16.30         10.80           1.40          0.15       0  \n",
       "4          16.81         10.90           0.88          0.23       0  \n",
       "5           8.43         11.42           1.20          0.08       0  \n",
       "6          10.17          7.28           0.95          0.09       0  \n",
       "7           8.00         11.70           1.50          0.11       0  \n",
       "8           7.40         10.40           0.97          0.09       0  \n",
       "9           7.31          9.50           0.37          0.10       0  \n",
       "10          5.40          7.60           0.40          0.20       0  \n",
       "11          2.70          5.20           0.40          0.11       0  \n",
       "12          2.67          5.33           0.37          0.12       0  \n",
       "13          2.70          5.30           0.40          0.15       0  \n",
       "14          2.60          5.00           0.40          0.11       0  \n",
       "15          6.20         13.20          13.20          0.09       0  \n",
       "16         13.60         17.60           7.30          0.05       0  \n",
       "17         10.70         13.10           0.60          0.05       0  \n",
       "18          7.30          7.00           1.60          0.10       0  \n",
       "19          8.00          7.00           1.00          0.20       0  \n",
       "20         17.30         23.50          25.80          0.90       0  \n",
       "21          4.70          2.90           6.30          0.30       0  \n",
       "22          0.00          0.00           0.00          0.40       0  \n",
       "23          8.50          6.00           1.75          0.18       0  "
      ]
     },
     "execution_count": 184,
     "metadata": {},
     "output_type": "execute_result"
    }
   ],
   "source": [
    "newProducts2017 = pd.read_csv(r'C:\\Users\\muift\\Documents\\UT Data Analytics Data\\R_Projects\\C2T3\\newproduct2017.csv')\n",
    "newProducts2017"
   ]
  },
  {
   "cell_type": "markdown",
   "metadata": {},
   "source": [
    "### Additional items included in the notebook\n",
    "\n",
    "1. What is straightforward to install Python and all of the libraries?\n",
    "    I installed it using Anaconda and it was simple\n",
    "    \n",
    "2. Was the tutorial useful? Would you recommend it to others?\n",
    "    Yes, the tutorial was very helpful and getting familiar with python syntex and using Jupyter notebook\n",
    "    \n",
    "3. What are the main lessons learned from this experience?\n",
    "    Python appears to be much more versitile comppared to R.\n",
    "    Understanding errors and debugging is essential."
   ]
  }
 ],
 "metadata": {
  "kernelspec": {
   "display_name": "Python 3",
   "language": "python",
   "name": "python3"
  },
  "language_info": {
   "codemirror_mode": {
    "name": "ipython",
    "version": 3
   },
   "file_extension": ".py",
   "mimetype": "text/x-python",
   "name": "python",
   "nbconvert_exporter": "python",
   "pygments_lexer": "ipython3",
   "version": "3.7.3"
  }
 },
 "nbformat": 4,
 "nbformat_minor": 2
}
